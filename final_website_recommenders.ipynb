{
 "cells": [
  {
   "cell_type": "code",
   "execution_count": 107,
   "metadata": {},
   "outputs": [],
   "source": [
    "import pandas as pd\n",
    "from numpy import *\n",
    "#import numpy as np\n",
    "num_websites = 5\n",
    "num_users = 3\n",
    "num_features = 5\n"
   ]
  },
  {
   "cell_type": "code",
   "execution_count": 108,
   "metadata": {},
   "outputs": [
    {
     "data": {
      "text/plain": [
       "'/home/velar/Documents/python'"
      ]
     },
     "execution_count": 108,
     "metadata": {},
     "output_type": "execute_result"
    }
   ],
   "source": [
    "pwd"
   ]
  },
  {
   "cell_type": "code",
   "execution_count": 109,
   "metadata": {},
   "outputs": [],
   "source": [
    "user_ratings = pd.read_csv('/home/velar/Documents/python/user_rating.csv')"
   ]
  },
  {
   "cell_type": "code",
   "execution_count": 110,
   "metadata": {},
   "outputs": [
    {
     "name": "stdout",
     "output_type": "stream",
     "text": [
      "       Unnamed: 0  Rajiv  Sujal  Rishabh\n",
      "0      NepalStock  19.76  65.59    10.00\n",
      "1        GSMArena  41.17  25.43    24.70\n",
      "2      AceTravels   0.00   4.98     0.00\n",
      "3        GoMovies   8.20   0.00    54.32\n",
      "4  EducationNepal  30.87   4.00    10.98\n"
     ]
    }
   ],
   "source": [
    "print (user_ratings)"
   ]
  },
  {
   "cell_type": "code",
   "execution_count": 111,
   "metadata": {},
   "outputs": [],
   "source": [
    "user_rating_conversion = np.loadtxt(open(\"/home/velar/Documents/python/user_rating.csv\", \"rb\"), delimiter=\",\", skiprows = 1, usecols = (1, 2, 3))"
   ]
  },
  {
   "cell_type": "code",
   "execution_count": 112,
   "metadata": {},
   "outputs": [
    {
     "name": "stdout",
     "output_type": "stream",
     "text": [
      "[[19.76 65.59 10.  ]\n",
      " [41.17 25.43 24.7 ]\n",
      " [ 0.    4.98  0.  ]\n",
      " [ 8.2   0.   54.32]\n",
      " [30.87  4.   10.98]]\n"
     ]
    }
   ],
   "source": [
    "print(user_rating_conversion)"
   ]
  },
  {
   "cell_type": "code",
   "execution_count": 113,
   "metadata": {},
   "outputs": [],
   "source": [
    "user_did_rate = (user_rating_conversion !=0) *1"
   ]
  },
  {
   "cell_type": "code",
   "execution_count": 114,
   "metadata": {},
   "outputs": [
    {
     "name": "stdout",
     "output_type": "stream",
     "text": [
      "[[1 1 1]\n",
      " [1 1 1]\n",
      " [0 1 0]\n",
      " [1 0 1]\n",
      " [1 1 1]]\n"
     ]
    }
   ],
   "source": [
    "print(user_did_rate)"
   ]
  },
  {
   "cell_type": "code",
   "execution_count": 115,
   "metadata": {},
   "outputs": [],
   "source": [
    "def normalized_rating(user_rating_conversion, user_did_rate):\n",
    "    \n",
    "    ratings_mean = np.zeros(shape = (num_websites, 1))\n",
    "    ratings_norm = np.zeros(shape = (user_rating_conversion.shape))\n",
    "    \n",
    "    for i in range(num_websites):\n",
    "        idx = np.where(user_did_rate[i] == 1)[0]\n",
    "        ratings_mean[i] = np.mean(user_rating_conversion[i, idx])\n",
    "        ratings_norm[i, idx] = user_rating_conversion[i, idx] - ratings_mean[i]\n",
    "    \n",
    "    return ratings_mean, ratings_norm\n",
    "        \n",
    "    \n",
    "    \n",
    "    \n",
    "        \n",
    "    "
   ]
  },
  {
   "cell_type": "code",
   "execution_count": 116,
   "metadata": {},
   "outputs": [],
   "source": [
    "row_ko_mean_rate, normalized_rating = normalized_rating(user_rating_conversion, user_did_rate)"
   ]
  },
  {
   "cell_type": "code",
   "execution_count": 117,
   "metadata": {},
   "outputs": [
    {
     "name": "stdout",
     "output_type": "stream",
     "text": [
      "[[31.78333333]\n",
      " [30.43333333]\n",
      " [ 4.98      ]\n",
      " [31.26      ]\n",
      " [15.28333333]]\n"
     ]
    }
   ],
   "source": [
    "print(row_ko_mean_rate)"
   ]
  },
  {
   "cell_type": "code",
   "execution_count": 118,
   "metadata": {},
   "outputs": [
    {
     "name": "stdout",
     "output_type": "stream",
     "text": [
      "[[-12.02333333  33.80666667 -21.78333333]\n",
      " [ 10.73666667  -5.00333333  -5.73333333]\n",
      " [  0.           0.           0.        ]\n",
      " [-23.06         0.          23.06      ]\n",
      " [ 15.58666667 -11.28333333  -4.30333333]]\n"
     ]
    }
   ],
   "source": [
    "print(normalized_rating)"
   ]
  },
  {
   "cell_type": "code",
   "execution_count": 119,
   "metadata": {},
   "outputs": [
    {
     "name": "stdout",
     "output_type": "stream",
     "text": [
      "  Unnamed: 0  Business  Mobile/Laptop  Consultancy  Travelling  Movies\n",
      "0      Rajiv    0.1976         0.4117       0.3087      0.0000  0.0820\n",
      "1      Sujal    0.6559         0.2543       0.0400      0.0498  0.0000\n",
      "2    Rishabh    0.1000         0.2470       0.1098      0.0000  0.5432\n"
     ]
    }
   ],
   "source": [
    "#this includes the user_features  \n",
    "user_features = pd.read_csv('/home/velar/Documents/python/user_features.csv')\n",
    "print (user_features)"
   ]
  },
  {
   "cell_type": "code",
   "execution_count": 120,
   "metadata": {},
   "outputs": [
    {
     "name": "stdout",
     "output_type": "stream",
     "text": [
      "[[0.1976 0.4117 0.3087 0.     0.082 ]\n",
      " [0.6559 0.2543 0.04   0.0498 0.    ]\n",
      " [0.1    0.247  0.1098 0.     0.5432]]\n"
     ]
    }
   ],
   "source": [
    "user_features_conversion = np.loadtxt(open(\"/home/velar/Documents/python/user_features.csv\", \"rb\"), delimiter=\",\", skiprows = 1, usecols = (1, 2, 3, 4, 5))\n",
    "print(user_features_conversion)"
   ]
  },
  {
   "cell_type": "code",
   "execution_count": 121,
   "metadata": {},
   "outputs": [
    {
     "name": "stdout",
     "output_type": "stream",
     "text": [
      "       Unnamed: 0  Business  Mobile/Laptop  Consultancy  Travelling  Movies\n",
      "0      NepalStock       1.0            0.1          0.1         0.1     0.1\n",
      "1        GSMArena       0.1            1.0          0.1         0.1     0.1\n",
      "2      AceTravels       0.1            0.1          0.1         1.0     0.1\n",
      "3        GoMovies       0.1            0.1          0.1         0.1     1.0\n",
      "4  EducationNepal       0.1            0.1          1.0         0.1     0.1\n"
     ]
    }
   ],
   "source": [
    "#this includes the websites features\n",
    "websites_features =  pd.read_csv('/home/velar/Documents/python/website_features.csv')\n",
    "print (websites_features)"
   ]
  },
  {
   "cell_type": "code",
   "execution_count": 122,
   "metadata": {},
   "outputs": [
    {
     "name": "stdout",
     "output_type": "stream",
     "text": [
      "[[1.  0.1 0.1 0.1 0.1]\n",
      " [0.1 1.  0.1 0.1 0.1]\n",
      " [0.1 0.1 0.1 1.  0.1]\n",
      " [0.1 0.1 0.1 0.1 1. ]\n",
      " [0.1 0.1 1.  0.1 0.1]]\n"
     ]
    }
   ],
   "source": [
    "websites_features_conversion = np.loadtxt(open(\"/home/velar/Documents/python/website_features.csv\", \"rb\"), delimiter=\",\", skiprows = 1, usecols = (1, 2, 3, 4, 5))\n",
    "print(websites_features_conversion)"
   ]
  },
  {
   "cell_type": "code",
   "execution_count": 123,
   "metadata": {},
   "outputs": [
    {
     "name": "stdout",
     "output_type": "stream",
     "text": [
      "[[0.1976 0.4117 0.3087 0.     0.082 ]\n",
      " [0.6559 0.2543 0.04   0.0498 0.    ]\n",
      " [0.1    0.247  0.1098 0.     0.5432]]\n"
     ]
    }
   ],
   "source": [
    "print(user_features_conversion)"
   ]
  },
  {
   "cell_type": "code",
   "execution_count": 124,
   "metadata": {},
   "outputs": [
    {
     "name": "stdout",
     "output_type": "stream",
     "text": [
      "[[1 1 1 0 1]\n",
      " [1 1 1 1 0]\n",
      " [1 1 1 0 1]]\n"
     ]
    }
   ],
   "source": [
    "user_rated_features = (user_features_conversion != 0) *1\n",
    "print(user_rated_features)"
   ]
  },
  {
   "cell_type": "code",
   "execution_count": 125,
   "metadata": {},
   "outputs": [
    {
     "name": "stdout",
     "output_type": "stream",
     "text": [
      "[[1.  0.1 0.1 0.1 0.1]\n",
      " [0.1 1.  0.1 0.1 0.1]\n",
      " [0.1 0.1 0.1 1.  0.1]\n",
      " [0.1 0.1 0.1 0.1 1. ]\n",
      " [0.1 0.1 1.  0.1 0.1]]\n"
     ]
    }
   ],
   "source": [
    "print(websites_features_conversion)"
   ]
  },
  {
   "cell_type": "code",
   "execution_count": 126,
   "metadata": {},
   "outputs": [
    {
     "name": "stdout",
     "output_type": "stream",
     "text": [
      "[[0.28]\n",
      " [0.28]\n",
      " [0.28]\n",
      " [0.28]\n",
      " [0.28]]\n"
     ]
    }
   ],
   "source": [
    "websites_features_mean = np.mean(websites_features_conversion, axis = 1)\n",
    "newshape = (num_websites, 1)\n",
    "mean_de_website_features = np.reshape(websites_features_mean, newshape)\n",
    "print(mean_de_website_features)\n",
    "    "
   ]
  },
  {
   "cell_type": "code",
   "execution_count": 127,
   "metadata": {},
   "outputs": [],
   "source": [
    "normalized_websites_features = websites_features_conversion - mean_de_website_features"
   ]
  },
  {
   "cell_type": "code",
   "execution_count": 128,
   "metadata": {},
   "outputs": [
    {
     "name": "stdout",
     "output_type": "stream",
     "text": [
      "[[ 0.72 -0.18 -0.18 -0.18 -0.18]\n",
      " [-0.18  0.72 -0.18 -0.18 -0.18]\n",
      " [-0.18 -0.18 -0.18  0.72 -0.18]\n",
      " [-0.18 -0.18 -0.18 -0.18  0.72]\n",
      " [-0.18 -0.18  0.72 -0.18 -0.18]]\n"
     ]
    }
   ],
   "source": [
    "print(normalized_websites_features) # Website Features: (1 Business 2 Mobile/Laptop 3 Consultancy 4 Traveling 5 Movies) "
   ]
  },
  {
   "cell_type": "code",
   "execution_count": 129,
   "metadata": {},
   "outputs": [
    {
     "data": {
      "text/plain": [
       "array([[0.1976, 0.4117, 0.3087, 0.    , 0.082 ],\n",
       "       [0.6559, 0.2543, 0.04  , 0.0498, 0.    ],\n",
       "       [0.1   , 0.247 , 0.1098, 0.    , 0.5432]])"
      ]
     },
     "execution_count": 129,
     "metadata": {},
     "output_type": "execute_result"
    }
   ],
   "source": [
    "user_features_conversion # User Features: (1 Business 2 Mobile/Laptop 3 Consultancy 4 Traveling 5 Movies)"
   ]
  },
  {
   "cell_type": "code",
   "execution_count": 130,
   "metadata": {},
   "outputs": [
    {
     "name": "stdout",
     "output_type": "stream",
     "text": [
      "[[0.2]\n",
      " [0.2]\n",
      " [0.2]]\n"
     ]
    }
   ],
   "source": [
    "user_features_conversion_mean = np.mean(user_features_conversion, axis = 1)\n",
    "shape = (num_users, 1)\n",
    "reshapedV2 = user_features_conversion_mean.reshape(shape)\n",
    "print(reshapedV2)"
   ]
  },
  {
   "cell_type": "code",
   "execution_count": 131,
   "metadata": {},
   "outputs": [
    {
     "name": "stdout",
     "output_type": "stream",
     "text": [
      "[[-0.0024  0.2117  0.1087  0.     -0.118 ]\n",
      " [ 0.4559  0.0543 -0.16   -0.1502  0.    ]\n",
      " [-0.1     0.047  -0.0902  0.      0.3432]]\n"
     ]
    }
   ],
   "source": [
    "fine_reshapedV2 = reshapedV2 *  user_rated_features\n",
    "normalized_user_features = user_features_conversion - fine_reshapedV2\n",
    "print(normalized_user_features)\n",
    "\n",
    "#st = user_features_conversion - stpt\n",
    "#print (st)\n",
    "#stpt = reshapedV2 *  user_rated_features\n",
    "#print (stpt)"
   ]
  },
  {
   "cell_type": "code",
   "execution_count": 132,
   "metadata": {},
   "outputs": [],
   "source": [
    "this_is_the_final_one = np.r_[normalized_websites_features.T.flatten(), normalized_user_features.T.flatten()]"
   ]
  },
  {
   "cell_type": "code",
   "execution_count": 133,
   "metadata": {},
   "outputs": [
    {
     "name": "stdout",
     "output_type": "stream",
     "text": [
      "[ 0.72   -0.18   -0.18   -0.18   -0.18   -0.18    0.72   -0.18   -0.18\n",
      " -0.18   -0.18   -0.18   -0.18   -0.18    0.72   -0.18   -0.18    0.72\n",
      " -0.18   -0.18   -0.18   -0.18   -0.18    0.72   -0.18   -0.0024  0.4559\n",
      " -0.1     0.2117  0.0543  0.047   0.1087 -0.16   -0.0902  0.     -0.1502\n",
      "  0.     -0.118   0.      0.3432]\n"
     ]
    }
   ],
   "source": [
    "print(this_is_the_final_one)"
   ]
  },
  {
   "cell_type": "code",
   "execution_count": 134,
   "metadata": {},
   "outputs": [],
   "source": [
    "def reconstruction(this_is_the_final_one, num_users, num_websites, num_features):\n",
    "    first_25 = this_is_the_final_one[:num_websites * num_features] \n",
    "    websites_features = first_25.reshape(num_features, num_websites).transpose()\n",
    "    last_15 = this_is_the_final_one[num_websites * num_features:]\n",
    "    user_features = last_15.reshape(num_features, num_users).transpose()\n",
    "    return websites_features, user_features #these are normalized web and user features\n",
    "\n",
    "    "
   ]
  },
  {
   "cell_type": "code",
   "execution_count": 135,
   "metadata": {},
   "outputs": [
    {
     "data": {
      "text/plain": [
       "array([[0.1976, 0.4117, 0.3087, 0.    , 0.082 ],\n",
       "       [0.6559, 0.2543, 0.04  , 0.0498, 0.    ],\n",
       "       [0.1   , 0.247 , 0.1098, 0.    , 0.5432]])"
      ]
     },
     "execution_count": 135,
     "metadata": {},
     "output_type": "execute_result"
    }
   ],
   "source": [
    "user_features_conversion"
   ]
  },
  {
   "cell_type": "code",
   "execution_count": 136,
   "metadata": {},
   "outputs": [
    {
     "name": "stdout",
     "output_type": "stream",
     "text": [
      "[[1 1 1]\n",
      " [1 1 1]\n",
      " [0 1 0]\n",
      " [1 0 1]\n",
      " [1 1 1]]\n"
     ]
    }
   ],
   "source": [
    "print(user_did_rate)"
   ]
  },
  {
   "cell_type": "code",
   "execution_count": 137,
   "metadata": {},
   "outputs": [],
   "source": [
    "#So, how do we actually come up with the line that best fits???\n",
    "#That is the reason we use the gradient descent\n",
    "\n",
    "# Gradient Descent:\n",
    "#--> The minimum slope enables us to find the global minimum cost(the sum of squared error), \n",
    "#--> we go on decreasing descenting the slope until we find the lowest cost function(sum of squared error)\n",
    "#--> The lowest sum of the squared error means the line of the best fit\n",
    "\n",
    "def calculate_gradient(this_is_the_final_one, user_rating_conversion, user_did_rate, num_users, num_websites, num_features):\n",
    "    websites_features, user_features= reconstruction(this_is_the_final_one, num_users, num_websites, num_features)\n",
    "    \n",
    "    #websites_features_grad = 5 * 5\n",
    "    #user_features_grad = \n",
    "    \n",
    "    #the dot product of websites_features and the user_features gives the user affinity:(lagav) for each of the genres\n",
    "    difference = websites_features.dot(user_features.T) * user_did_rate - user_rating_conversion\n",
    "    \n",
    "    #we are calculating the partial_fraction(gradient(slope)) with respect to the cost function.\n",
    "    \n",
    "    websites_features_grad = difference.dot(user_features) \n",
    "    user_features_grad = difference.T.dot( websites_features ) \n",
    "    \n",
    "    #wrap gradients back to the list\n",
    "    return np.r_[websites_features_grad.T.flatten(), user_features_grad.T.flatten()]\n",
    "\n",
    "    "
   ]
  },
  {
   "cell_type": "code",
   "execution_count": 138,
   "metadata": {},
   "outputs": [],
   "source": [
    "def calculate_sum_of_squared_error(this_is_the_final_one, user_rating_conversion, user_did_rate, num_users, num_websites, num_features):\n",
    "    websites_features, user_features = reconstruction(this_is_the_final_one, num_users, num_websites, num_features)\n",
    "        \n",
    "    #cost is the sum of squared distances between the axis and the line.\n",
    "    #as shown, axis, or the plotted points are (X.dot(theta.t) * did_rate),\n",
    "    #While the straight line is given by the ratings\n",
    "    cost =  sum( (websites_features.dot(user_features.T) * user_did_rate - user_rating_conversion) ** 2 )/ 2\n",
    "    \n",
    "    # ** means an element wise power\n",
    "    return cost"
   ]
  },
  {
   "cell_type": "code",
   "execution_count": 139,
   "metadata": {},
   "outputs": [
    {
     "name": "stdout",
     "output_type": "stream",
     "text": [
      "Optimization terminated successfully.\n",
      "         Current function value: 0.000000\n",
      "         Iterations: 17\n",
      "         Function evaluations: 40\n",
      "         Gradient evaluations: 40\n"
     ]
    }
   ],
   "source": [
    "#a package used for advanced optimization, minimize cost function in this case\n",
    "from scipy import optimize\n",
    "\n",
    "#this makes website_predictions, from which we can make movie_recommendation\n",
    "#optimize to the minimum value of the cost function\n",
    "minimized_cost_and_optimal_params = optimize.fmin_cg(calculate_sum_of_squared_error, \n",
    "                                                     fprime=calculate_gradient, \n",
    "                                                      x0=this_is_the_final_one, \n",
    "                                                      args = (user_rating_conversion, user_did_rate,\n",
    "                                                      num_users, num_websites, num_features),\n",
    "                                                      maxiter = 100, disp = True, full_output = True)"
   ]
  },
  {
   "cell_type": "code",
   "execution_count": 140,
   "metadata": {},
   "outputs": [],
   "source": [
    "cost, optimal_website_features_and_user_preferences = minimized_cost_and_optimal_params[1], minimized_cost_and_optimal_params[0]"
   ]
  },
  {
   "cell_type": "code",
   "execution_count": 141,
   "metadata": {},
   "outputs": [],
   "source": [
    "websites_features, user_preferences = reconstruction(optimal_website_features_and_user_preferences, num_users, num_websites, num_features )"
   ]
  },
  {
   "cell_type": "code",
   "execution_count": 143,
   "metadata": {},
   "outputs": [
    {
     "name": "stdout",
     "output_type": "stream",
     "text": [
      "[[ 5.97598424  1.80463646 -1.69024352 -2.14427515  0.74978103]\n",
      " [ 1.84943152  4.68632068 -0.34599074 -2.50129938  1.03448037]\n",
      " [ 0.46715047 -0.10285615 -0.40704942  0.50692832 -0.2036593 ]\n",
      " [-1.60663829  1.9290811  -0.7771163  -1.20760318  4.92750011]\n",
      " [ 0.06564828  2.88428691  1.33514591 -1.81252597  0.0859413 ]]\n"
     ]
    }
   ],
   "source": [
    "print(websites_features)"
   ]
  },
  {
   "cell_type": "code",
   "execution_count": 144,
   "metadata": {},
   "outputs": [],
   "source": [
    "all_predictions = websites_features.dot(user_preferences.T) #regular regression(y) = x.theta"
   ]
  },
  {
   "cell_type": "code",
   "execution_count": 145,
   "metadata": {},
   "outputs": [
    {
     "name": "stdout",
     "output_type": "stream",
     "text": [
      "[[ 19.75999959  65.5900002   10.00000014]\n",
      " [ 41.16999992  25.4299998   24.69999989]\n",
      " [ -3.72850901   4.97999996  -4.34443127]\n",
      " [  8.19999989 -29.54060849  54.31999988]\n",
      " [ 30.86999968   3.99999992  10.97999991]]\n"
     ]
    }
   ],
   "source": [
    "print(all_predictions)"
   ]
  },
  {
   "cell_type": "code",
   "execution_count": 156,
   "metadata": {},
   "outputs": [],
   "source": [
    "predictions = all_predictions[:, 0:3] + row_ko_mean_rate"
   ]
  },
  {
   "cell_type": "code",
   "execution_count": 158,
   "metadata": {},
   "outputs": [
    {
     "name": "stdout",
     "output_type": "stream",
     "text": [
      "[[51.54333293 97.37333354 41.78333347]\n",
      " [71.60333325 55.86333313 55.13333323]\n",
      " [ 1.25149099  9.95999996  0.63556873]\n",
      " [39.45999989  1.71939151 85.57999988]\n",
      " [46.15333301 19.28333325 26.26333325]]\n"
     ]
    }
   ],
   "source": [
    "print(predictions)"
   ]
  },
  {
   "cell_type": "code",
   "execution_count": null,
   "metadata": {},
   "outputs": [],
   "source": []
  }
 ],
 "metadata": {
  "kernelspec": {
   "display_name": "Python 3",
   "language": "python",
   "name": "python3"
  },
  "language_info": {
   "codemirror_mode": {
    "name": "ipython",
    "version": 3
   },
   "file_extension": ".py",
   "mimetype": "text/x-python",
   "name": "python",
   "nbconvert_exporter": "python",
   "pygments_lexer": "ipython3",
   "version": "3.6.4"
  }
 },
 "nbformat": 4,
 "nbformat_minor": 2
}
